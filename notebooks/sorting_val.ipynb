{
 "cells": [
  {
   "cell_type": "code",
   "execution_count": 1,
   "id": "47d6df28",
   "metadata": {},
   "outputs": [
    {
     "name": "stdout",
     "output_type": "stream",
     "text": [
      "✅ val_map.txt generated!\n"
     ]
    }
   ],
   "source": [
    "import os\n",
    "import shutil\n",
    "\n",
    "# Path to the ground truth file\n",
    "gt_file = \"ILSVRC2012_devkit_t12/data/ILSVRC2012_validation_ground_truth.txt\"\n",
    "\n",
    "# Write val_map.txt\n",
    "with open(gt_file, \"r\") as f_in, open(\"val_map.txt\", \"w\") as f_out:\n",
    "    for i, line in enumerate(f_in):\n",
    "        label = int(line.strip()) - 1  # Convert 1-based to 0-based\n",
    "        filename = f\"ILSVRC2012_val_{i+1:08d}.JPEG\"\n",
    "        f_out.write(f\"{filename}\\t{label}\\n\")\n",
    "\n",
    "print(\"✅ val_map.txt generated!\")\n"
   ]
  },
  {
   "cell_type": "code",
   "execution_count": 2,
   "id": "ce522317",
   "metadata": {},
   "outputs": [
    {
     "name": "stdout",
     "output_type": "stream",
     "text": [
      "Reading val_map.txt...\n",
      "Sorting images...\n",
      "✅ All images sorted into: val_sorted\n"
     ]
    }
   ],
   "source": [
    "import os\n",
    "import shutil\n",
    "\n",
    "# === CONFIG ===\n",
    "val_dir = \"val\"  # original flat val folder\n",
    "map_file = \"val_map.txt\"\n",
    "output_dir = \"val_sorted\"\n",
    "\n",
    "# === STEP 1: Read val_map.txt ===\n",
    "print(\"Reading val_map.txt...\")\n",
    "image_to_label = {}\n",
    "with open(map_file, \"r\") as f:\n",
    "    for line in f:\n",
    "        image_name, label = line.strip().split()\n",
    "        image_to_label[image_name] = int(label)\n",
    "\n",
    "# === STEP 2: Create val_sorted/class folders and copy ===\n",
    "print(\"Sorting images...\")\n",
    "os.makedirs(output_dir, exist_ok=True)\n",
    "for image_name, label in image_to_label.items():\n",
    "    class_dir = os.path.join(output_dir, f\"class{label}\")\n",
    "    os.makedirs(class_dir, exist_ok=True)\n",
    "\n",
    "    src_path = os.path.join(val_dir, image_name)\n",
    "    dst_path = os.path.join(class_dir, image_name)\n",
    "\n",
    "    if os.path.exists(src_path):\n",
    "        shutil.copy2(src_path, dst_path)\n",
    "    else:\n",
    "        print(f\"WARNING: Image not found: {src_path}\")\n",
    "\n",
    "print(\"✅ All images sorted into:\", output_dir)\n"
   ]
  },
  {
   "cell_type": "code",
   "execution_count": 3,
   "id": "ad98896e",
   "metadata": {},
   "outputs": [
    {
     "name": "stdout",
     "output_type": "stream",
     "text": [
      "Reading imagenet_class_index.js…\n",
      "Reading val_map.txt…\n",
      "✅ Done. All images are in val_by_synset\n"
     ]
    }
   ],
   "source": [
    "import os, shutil, json, re\n",
    "\n",
    "# ─── CONFIG ───\n",
    "val_dir        = \"val\"                     # your flat folder of 50 000 JPEGs\n",
    "map_file       = \"val_map.txt\"             # lines like \"ILSVRC2012_val_00000001.JPEG  65\"\n",
    "js_file        = \"imagenet_class_index.json\" # your JS file\n",
    "output_dir     = \"val_by_synset\"           # where to mkdir the 1000 synset folders\n",
    "\n",
    "# ─── STEP 1: load the JS file as JSON ───\n",
    "print(\"Reading imagenet_class_index.js…\")\n",
    "with open(js_file, \"r\", encoding=\"utf-8\") as f:\n",
    "    text = f.read()\n",
    "\n",
    "# Remove any JS-specific wrapping. We want a pure JSON object:\n",
    "#   e.g. turn 'module.exports = { … };' into '{ … }'\n",
    "# The simplest regex is to grab the first “{” through the matching final “}”\n",
    "m = re.search(r\"\\{[\\s\\S]*\\}\", text)\n",
    "if not m:\n",
    "    raise RuntimeError(\"Couldn't find JSON object inside \" + js_file)\n",
    "json_str = m.group(0)\n",
    "class_index = json.loads(json_str)  # now a dict of strings \"0\"→[synset, human_name]\n",
    "\n",
    "# Build an integer→synset dict\n",
    "idx2syn = {int(k): v[0] for k, v in class_index.items()}\n",
    "\n",
    "# ─── STEP 2: read val_map.txt → file_name → integer label ───\n",
    "print(\"Reading val_map.txt…\")\n",
    "img2lbl = {}\n",
    "with open(map_file, \"r\") as f:\n",
    "    for line in f:\n",
    "        img_name, lbl_str = line.strip().split()\n",
    "        img2lbl[img_name] = int(lbl_str)\n",
    "\n",
    "# ─── STEP 3: copy each JPEG into the right “synset” folder ───\n",
    "os.makedirs(output_dir, exist_ok=True)\n",
    "for img_name, lbl in img2lbl.items():\n",
    "    syn = idx2syn[lbl]                    # e.g. 65 → \"n01443537\"\n",
    "    syn_dir = os.path.join(output_dir, syn)\n",
    "    os.makedirs(syn_dir, exist_ok=True)\n",
    "\n",
    "    src = os.path.join(val_dir, img_name)\n",
    "    dst = os.path.join(syn_dir, img_name)\n",
    "    if os.path.exists(src):\n",
    "        shutil.copy2(src, dst)\n",
    "    else:\n",
    "        print(f\"WARNING: {src} not found\")\n",
    "\n",
    "print(\"✅ Done. All images are in\", output_dir)\n"
   ]
  },
  {
   "cell_type": "code",
   "execution_count": 9,
   "id": "49b00a0d",
   "metadata": {},
   "outputs": [
    {
     "name": "stdout",
     "output_type": "stream",
     "text": [
      "Step 1: loading meta.mat…\n"
     ]
    },
    {
     "ename": "AssertionError",
     "evalue": "Expect exactly 1000 mappings in meta.mat",
     "output_type": "error",
     "traceback": [
      "\u001b[1;31m---------------------------------------------------------------------------\u001b[0m",
      "\u001b[1;31mAssertionError\u001b[0m                            Traceback (most recent call last)",
      "Cell \u001b[1;32mIn[9], line 29\u001b[0m\n\u001b[0;32m     25\u001b[0m         wnid \u001b[38;5;241m=\u001b[39m \u001b[38;5;28mstr\u001b[39m(wnid_field)\n\u001b[0;32m     27\u001b[0m     devkit_id_to_wnid[devkit_label] \u001b[38;5;241m=\u001b[39m wnid\n\u001b[1;32m---> 29\u001b[0m \u001b[38;5;28;01massert\u001b[39;00m \u001b[38;5;28mlen\u001b[39m(devkit_id_to_wnid) \u001b[38;5;241m==\u001b[39m \u001b[38;5;241m1000\u001b[39m, \u001b[38;5;124m\"\u001b[39m\u001b[38;5;124mExpect exactly 1000 mappings in meta.mat\u001b[39m\u001b[38;5;124m\"\u001b[39m\n\u001b[0;32m     31\u001b[0m \u001b[38;5;66;03m# ─── 2. READ OFFICIAL VALIDATION GROUND TRUTH ────────────────\u001b[39;00m\n\u001b[0;32m     32\u001b[0m \u001b[38;5;28mprint\u001b[39m(\u001b[38;5;124m\"\u001b[39m\u001b[38;5;124mStep 2: reading ILSVRC2012_validation_ground_truth.txt…\u001b[39m\u001b[38;5;124m\"\u001b[39m)\n",
      "\u001b[1;31mAssertionError\u001b[0m: Expect exactly 1000 mappings in meta.mat"
     ]
    }
   ],
   "source": [
    "import os\n",
    "import shutil\n",
    "from scipy.io import loadmat\n",
    "\n",
    "# ─── CONFIGURE THESE PATHS ───\n",
    "DEVKIT_PATH    = r\"ILSVRC2012_devkit_t12\\data\"\n",
    "VAL_IMAGES_DIR = r\"val\"\n",
    "OUTPUT_DIR     = r\"val_by_synset\"\n",
    "\n",
    "# ─── 1. LOAD META.MAT ─────────────────────────────────────────\n",
    "print(\"Step 1: loading meta.mat…\")\n",
    "meta = loadmat(os.path.join(DEVKIT_PATH, \"meta.mat\"))\n",
    "synsets_struct = meta[\"synsets\"][0]  # length‐1000 array of structs\n",
    "\n",
    "# Build (devkit_label [1–1000] → WNID)\n",
    "devkit_id_to_wnid = {}\n",
    "for entry in synsets_struct:\n",
    "    devkit_label = int(entry[\"ILSVRC2012_ID\"][0][0])\n",
    "    wnid_field   = entry[\"WNID\"][0]\n",
    "\n",
    "    # If it’s bytes, decode; otherwise convert to str directly\n",
    "    if isinstance(wnid_field, bytes):\n",
    "        wnid = wnid_field.decode(\"utf-8\")\n",
    "    else:\n",
    "        wnid = str(wnid_field)\n",
    "\n",
    "    devkit_id_to_wnid[devkit_label] = wnid\n",
    "\n",
    "assert len(devkit_id_to_wnid) == 1000, \"Expect exactly 1000 mappings in meta.mat\"\n",
    "\n",
    "# ─── 2. READ OFFICIAL VALIDATION GROUND TRUTH ────────────────\n",
    "print(\"Step 2: reading ILSVRC2012_validation_ground_truth.txt…\")\n",
    "gt_file = os.path.join(DEVKIT_PATH, \"ILSVRC2012_validation_ground_truth.txt\")\n",
    "with open(gt_file, \"r\") as f:\n",
    "    lines = f.read().strip().splitlines()\n",
    "\n",
    "if len(lines) != 50000:\n",
    "    raise RuntimeError(f\"Expected 50000 lines, but found {len(lines)}\")\n",
    "\n",
    "# Re‐build the sorted list of 50 000 JPEGs in your “val” folder\n",
    "all_val_jpegs = sorted(\n",
    "    [fn for fn in os.listdir(VAL_IMAGES_DIR) if fn.lower().endswith(\".jpeg\")],\n",
    "    key=lambda s: s.lower(),\n",
    ")\n",
    "\n",
    "if len(all_val_jpegs) != 50000:\n",
    "    raise RuntimeError(f\"Expected 50000 JPEGs, but found {len(all_val_jpegs)}\")\n",
    "\n",
    "# Map each image filename → devkit label (1–1000) by line index\n",
    "imgname_to_devkit_label = {\n",
    "    all_val_jpegs[idx]: int(lines[idx])\n",
    "    for idx in range(len(all_val_jpegs))\n",
    "}\n",
    "\n",
    "# ─── 3. COPY IMAGES INTO “val_by_synset/<WNID>” ──────────────\n",
    "print(\"Step 3: copying images into synset‐named folders…\")\n",
    "os.makedirs(OUTPUT_DIR, exist_ok=True)\n",
    "\n",
    "for img_filename, devkit_label in imgname_to_devkit_label.items():\n",
    "    wnid = devkit_id_to_wnid[devkit_label]  # e.g. \"n01443537\"\n",
    "    synset_folder = os.path.join(OUTPUT_DIR, wnid)\n",
    "    os.makedirs(synset_folder, exist_ok=True)\n",
    "\n",
    "    src_path = os.path.join(VAL_IMAGES_DIR, img_filename)\n",
    "    dst_path = os.path.join(synset_folder, img_filename)\n",
    "\n",
    "    if not os.path.exists(src_path):\n",
    "        print(f\"  WARNING: {src_path} does not exist—skipping.\")\n",
    "        continue\n",
    "\n",
    "    shutil.copy2(src_path, dst_path)\n",
    "\n",
    "print(\"✅ Done. All validation images are now under 1000 synset folders in\", OUTPUT_DIR)\n"
   ]
  },
  {
   "cell_type": "code",
   "execution_count": 5,
   "id": "e5318870",
   "metadata": {},
   "outputs": [
    {
     "name": "stdout",
     "output_type": "stream",
     "text": [
      "PWD = d:\\UniGe\\2\\DL\\Project\n",
      "Contents of current dir:  ['ILSVRC2012_devkit_t12', 'ILSVRC2012_devkit_t12.tar.gz', 'ILSVRC2012_img_test_v10102019.tar', 'ILSVRC2012_img_val.tar', 'ILSVRC2012_validation_ground_truth.txt', 'imagenet_class_index.json', 'Implementation.docx', 'map_clsloc.txt', 'ProjectPresentation.pdf', 'sorting_val.ipynb', 'Swin Fine-tuned Models', 'Swin Transformer Hierarchical Vision Transformer using ShiftedWindows.pdf', 'Swin-Transformer', 'val', 'val_map.txt', 'val_sorted', '~$plementation.docx', '~WRL1713.tmp']\n",
      "Expected meta.mat path exists?  True\n"
     ]
    }
   ],
   "source": [
    "import os\n",
    "\n",
    "print(\"PWD =\", os.getcwd())\n",
    "print(\"Contents of current dir: \", os.listdir())\n",
    "print(\"Expected meta.mat path exists? \", os.path.exists(os.path.join(\"ILSVRC2012_devkit_t12\", \"data\", \"meta.mat\")))\n"
   ]
  },
  {
   "cell_type": "code",
   "execution_count": 1,
   "id": "07e790b4",
   "metadata": {},
   "outputs": [
    {
     "data": {
      "text/plain": [
       "'2.4.0+cu124'"
      ]
     },
     "execution_count": 1,
     "metadata": {},
     "output_type": "execute_result"
    }
   ],
   "source": [
    "import torch\n",
    "torch.version.__version__  # Ensure PyTorch is imported correctly\n",
    "# import timm\n",
    "# timm.__version__"
   ]
  },
  {
   "cell_type": "code",
   "execution_count": 1,
   "id": "61405821",
   "metadata": {},
   "outputs": [
    {
     "data": {
      "text/plain": [
       "'0.19.0+cu124'"
      ]
     },
     "execution_count": 1,
     "metadata": {},
     "output_type": "execute_result"
    }
   ],
   "source": [
    "import torchvision\n",
    "torchvision.__version__  # Ensure torchvision is imported correctly"
   ]
  },
  {
   "cell_type": "code",
   "execution_count": 1,
   "id": "c81b9754",
   "metadata": {},
   "outputs": [
    {
     "ename": "AttributeError",
     "evalue": "module 'torchvision' has no attribute 'cuda'",
     "output_type": "error",
     "traceback": [
      "\u001b[1;31m---------------------------------------------------------------------------\u001b[0m",
      "\u001b[1;31mAttributeError\u001b[0m                            Traceback (most recent call last)",
      "Cell \u001b[1;32mIn[1], line 3\u001b[0m\n\u001b[0;32m      1\u001b[0m \u001b[38;5;28;01mimport\u001b[39;00m \u001b[38;5;21;01mtorchvision\u001b[39;00m\n\u001b[1;32m----> 3\u001b[0m \u001b[38;5;28mprint\u001b[39m(torchvision\u001b[38;5;241m.\u001b[39m__version__, \u001b[43mtorchvision\u001b[49m\u001b[38;5;241;43m.\u001b[39;49m\u001b[43mcuda\u001b[49m\u001b[38;5;241m.\u001b[39mis_available())\n",
      "\u001b[1;31mAttributeError\u001b[0m: module 'torchvision' has no attribute 'cuda'"
     ]
    }
   ],
   "source": [
    "import torchvision\n",
    "\n",
    "print(torchvision.__version__, torchvision.cuda.is_available())"
   ]
  }
 ],
 "metadata": {
  "kernelspec": {
   "display_name": "Python 3",
   "language": "python",
   "name": "python3"
  },
  "language_info": {
   "codemirror_mode": {
    "name": "ipython",
    "version": 3
   },
   "file_extension": ".py",
   "mimetype": "text/x-python",
   "name": "python",
   "nbconvert_exporter": "python",
   "pygments_lexer": "ipython3",
   "version": "3.11.3"
  }
 },
 "nbformat": 4,
 "nbformat_minor": 5
}
